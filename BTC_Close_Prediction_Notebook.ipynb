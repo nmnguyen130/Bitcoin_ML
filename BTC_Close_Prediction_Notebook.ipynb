{
 "cells": [
  {
   "cell_type": "markdown",
   "id": "68eb7b65",
   "metadata": {},
   "source": [
    "\n",
    "# 📈 Dự đoán giá đóng cửa Bitcoin vào ngày hôm sau\n",
    "\n",
    "**Môn học: Machine Learning**  \n",
    "**Sinh viên: [Điền tên bạn]**  \n",
    "\n",
    "Trong notebook này, chúng ta sẽ sử dụng các kỹ thuật học máy để dự đoán giá đóng cửa (`close`) của Bitcoin vào ngày hôm sau dựa trên dữ liệu lịch sử và các yếu tố kinh tế như lãi suất FED, chỉ số USD, v.v.\n"
   ]
  },
  {
   "cell_type": "code",
   "execution_count": null,
   "id": "8aa6f668",
   "metadata": {},
   "outputs": [],
   "source": [
    "\n",
    "import pandas as pd\n",
    "import numpy as np\n",
    "import matplotlib.pyplot as plt\n",
    "from sklearn.preprocessing import StandardScaler\n",
    "from sklearn.ensemble import GradientBoostingRegressor, RandomForestRegressor\n",
    "from sklearn.linear_model import LinearRegression\n",
    "from sklearn.metrics import mean_squared_error, mean_absolute_error, r2_score\n",
    "from sklearn.model_selection import train_test_split\n",
    "import seaborn as sns\n"
   ]
  },
  {
   "cell_type": "markdown",
   "id": "bdd91af5",
   "metadata": {},
   "source": [
    "## 1. Đọc và tiền xử lý dữ liệu"
   ]
  },
  {
   "cell_type": "code",
   "execution_count": null,
   "id": "bf8e8a32",
   "metadata": {},
   "outputs": [],
   "source": [
    "\n",
    "# Đọc dữ liệu\n",
    "df = pd.read_csv(\"your_dataset.csv\")  # Thay bằng tên file bạn\n",
    "df['timestamp'] = pd.to_datetime(df['timestamp'])\n",
    "df = df.sort_values('timestamp').reset_index(drop=True)\n",
    "\n",
    "# Tạo nhãn là close ngày hôm sau\n",
    "df['target_close'] = df['close'].shift(-1)\n",
    "df = df.dropna()\n",
    "\n",
    "# Trích xuất đặc trưng thời gian\n",
    "df['day'] = df['timestamp'].dt.day\n",
    "df['month'] = df['timestamp'].dt.month\n",
    "df['weekday'] = df['timestamp'].dt.weekday\n",
    "\n",
    "# Tạo thêm một số đặc trưng mới\n",
    "df['range_high_low'] = df['high'] - df['low']\n",
    "df['change_open_close'] = df['close'] - df['open']\n",
    "df['close_pct_change'] = df['close'].pct_change().fillna(0)\n"
   ]
  },
  {
   "cell_type": "markdown",
   "id": "f5ca9cf1",
   "metadata": {},
   "source": [
    "## 2. Chọn đặc trưng và chuẩn hóa"
   ]
  },
  {
   "cell_type": "code",
   "execution_count": null,
   "id": "2aa05944",
   "metadata": {},
   "outputs": [],
   "source": [
    "\n",
    "# Lưu ý: 'year', 'month', 'weekday' là dữ liệu dạng thứ tự (ordinal), thường được chuẩn hóa nếu không dùng tree-based models.\n",
    "features = [\n",
    "    'open', 'high', 'low', 'close', 'volume', 'marketCap',\n",
    "    'FEDFUNDS', 'US_Dollar_Price', 'day', 'month', 'weekday',\n",
    "    'range_high_low', 'change_open_close', 'close_pct_change'\n",
    "]\n",
    "\n",
    "X = df[features]\n",
    "y = df['target_close']\n",
    "\n",
    "scaler = StandardScaler()\n",
    "X_scaled = scaler.fit_transform(X)\n"
   ]
  },
  {
   "cell_type": "markdown",
   "id": "00edc7cd",
   "metadata": {},
   "source": [
    "## 3. Tách tập train/test"
   ]
  },
  {
   "cell_type": "code",
   "execution_count": null,
   "id": "040b53d9",
   "metadata": {},
   "outputs": [],
   "source": [
    "\n",
    "# Không shuffle vì đây là dữ liệu thời gian\n",
    "X_train, X_test, y_train, y_test = train_test_split(X_scaled, y, test_size=0.2, shuffle=False)\n"
   ]
  },
  {
   "cell_type": "markdown",
   "id": "79f0d706",
   "metadata": {},
   "source": [
    "## 4. Huấn luyện và đánh giá các mô hình"
   ]
  },
  {
   "cell_type": "code",
   "execution_count": null,
   "id": "791de3e1",
   "metadata": {},
   "outputs": [],
   "source": [
    "\n",
    "models = {\n",
    "    \"Gradient Boosting\": GradientBoostingRegressor(n_estimators=100, random_state=42),\n",
    "    \"Random Forest\": RandomForestRegressor(n_estimators=100, random_state=42),\n",
    "    \"Linear Regression\": LinearRegression()\n",
    "}\n",
    "\n",
    "results = {}\n",
    "\n",
    "for name, model in models.items():\n",
    "    model.fit(X_train, y_train)\n",
    "    y_pred = model.predict(X_test)\n",
    "    mse = mean_squared_error(y_test, y_pred)\n",
    "    mae = mean_absolute_error(y_test, y_pred)\n",
    "    r2 = r2_score(y_test, y_pred)\n",
    "    results[name] = {\"MSE\": mse, \"MAE\": mae, \"R2\": r2}\n",
    "    print(f\"--- {name} ---\")\n",
    "    print(f\"MSE: {mse:.2f} | MAE: {mae:.2f} | R2: {r2:.4f}\\n\")\n"
   ]
  },
  {
   "cell_type": "markdown",
   "id": "bfe5a72f",
   "metadata": {},
   "source": [
    "## 5. So sánh kết quả dự đoán"
   ]
  },
  {
   "cell_type": "code",
   "execution_count": null,
   "id": "d0fb8184",
   "metadata": {},
   "outputs": [],
   "source": [
    "\n",
    "# Vẽ biểu đồ cho mô hình tốt nhất (Gradient Boosting)\n",
    "best_model = GradientBoostingRegressor(n_estimators=100, random_state=42)\n",
    "best_model.fit(X_train, y_train)\n",
    "y_pred = best_model.predict(X_test)\n",
    "\n",
    "plt.figure(figsize=(12, 5))\n",
    "plt.plot(y_test.values, label='Giá thực tế')\n",
    "plt.plot(y_pred, label='Giá dự đoán (GBR)')\n",
    "plt.title('So sánh giá Close thực tế và dự đoán')\n",
    "plt.xlabel(\"Ngày\")\n",
    "plt.ylabel(\"Giá Close\")\n",
    "plt.legend()\n",
    "plt.show()\n"
   ]
  },
  {
   "cell_type": "markdown",
   "id": "175d1ccf",
   "metadata": {},
   "source": [
    "\n",
    "## ✅ Kết luận\n",
    "\n",
    "- Dữ liệu được xử lý đầy đủ gồm chuẩn hóa, tạo đặc trưng động và thời gian.\n",
    "- Gradient Boosting Regressor cho kết quả tốt nhất về sai số và độ chính xác.\n",
    "- Có thể cải thiện thêm bằng cách:\n",
    "  - Thêm đặc trưng chuỗi thời gian (`rolling mean`, `volatility`...)\n",
    "  - Dùng mô hình học sâu như LSTM nếu dữ liệu dài hơn\n",
    "\n",
    "**👉 Đây là một pipeline học máy đầy đủ, phù hợp để nộp cho bài tập môn học.**\n"
   ]
  }
 ],
 "metadata": {},
 "nbformat": 4,
 "nbformat_minor": 5
}